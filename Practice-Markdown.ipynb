{
  "cells": [
    {
      "cell_type": "markdown",
      "metadata": {
        "id": "lN5bAdxRxXva"
      },
      "source": [
        "## Practice Markdown"
      ]
    },
    {
      "cell_type": "markdown",
      "metadata": {
        "id": "Azb2l6CKxXva"
      },
      "source": [
        "This notebook lets you experiment with producing repeatable technical documentation.  Use this notebook to do the following actions:\n",
        "\n",
        "* Create a code cell and print a Python Hello World statement:  `print(\"hello world\")`\n",
        "* Create a Markdown Cell and add a Title using `#` and then a statement using plain text.  You can looks at the source code for this cell to get an idea of how to use Markdown.\n",
        "* Take some ideas from the [Master Markdown Github Guide](https://guides.github.com/features/mastering-markdown/) and implement them here.\n",
        "* Download this notebook as a `.ipynb` file and check into a Github Project.  You can [see an example here](https://github.com/noahgift/duke-coursera-ccf-lab1/blob/main/Practice-Markdown.ipynb).\n",
        "* Open your notebook in Google Colab and save it into the same Github Project.  You can [see an example here](https://github.com/noahgift/duke-coursera-ccf-lab1/blob/main/Practice_Markdown_with_colab.ipynb).\n"
      ]
    },
    {
      "cell_type": "code",
      "execution_count": 3,
      "metadata": {
        "colab": {
          "base_uri": "https://localhost:8080/"
        },
        "id": "RwcNiWgOxXva",
        "outputId": "9db5bfdf-8e35-4863-a44b-effa77b8607b"
      },
      "outputs": [
        {
          "output_type": "stream",
          "name": "stdout",
          "text": [
            "hello world\n"
          ]
        }
      ],
      "source": [
        "print(\"hello world\")"
      ]
    },
    {
      "cell_type": "markdown",
      "metadata": {
        "id": "0dU1l1zpxXvb"
      },
      "source": [
        "#  This is a Markdown line.\n"
      ]
    },
    {
      "cell_type": "markdown",
      "source": [
        "**This is bold text**\n",
        "\n",
        "*This is italic text*\n",
        "\n",
        "~~This is mistaken text~~\n",
        "\n",
        "**This is a _VERY IMPORTANT_ text**\n",
        "\n",
        "***Bold and italic***\n",
        "\n",
        "This is <sub>subscript</sub> text\n",
        "\n",
        "This is a <sup>superscript</sup> text\n",
        "\n",
        "<ins>Underline</ins>\n",
        "\n"
      ],
      "metadata": {
        "id": "S3jyAjxTxnYT"
      }
    }
  ],
  "metadata": {
    "kernelspec": {
      "display_name": "Python 3",
      "language": "python",
      "name": "python3"
    },
    "language_info": {
      "codemirror_mode": {
        "name": "ipython",
        "version": 3
      },
      "file_extension": ".py",
      "mimetype": "text/x-python",
      "name": "python",
      "nbconvert_exporter": "python",
      "pygments_lexer": "ipython3",
      "version": "3.7.6"
    },
    "colab": {
      "provenance": []
    }
  },
  "nbformat": 4,
  "nbformat_minor": 0
}